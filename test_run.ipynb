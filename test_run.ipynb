{
 "cells": [
  {
   "cell_type": "code",
   "execution_count": 175,
   "metadata": {},
   "outputs": [],
   "source": [
    "import cv2\n",
    "import math\n",
    "\n",
    "import matplotlib.pyplot as plt\n",
    "import numpy as np\n",
    "\n",
    "# Point to file source of video\n",
    "VIDEO_LOCATION = \"media/office_dance_vid.mp4\""
   ]
  },
  {
   "cell_type": "code",
   "execution_count": 112,
   "metadata": {},
   "outputs": [],
   "source": [
    "def faircloth_tempo(flow: list) -> float:\n",
    "    \"\"\"\n",
    "    An implementation of Ryan Faircloth's visual tempo detection algorithm. \n",
    "    https://stars.library.ucf.edu/cgi/viewcontent.cgi?article=4582&context=etd\n",
    "    \n",
    "    Args:\n",
    "        flow (list): Optical Flow output from cv2.calcOpticalFlowFarneback\n",
    "    \n",
    "    Returns:\n",
    "        movement (float): angle of movement vectors of the optical flow per each frame\n",
    "    \n",
    "    Raises:\n",
    "        None\n",
    "    \"\"\"\n",
    "    \n",
    "    # slicing an numpy array is much nicer\n",
    "    np_flow = np.array(flow)\n",
    "    theta = np.arctan(np.mean(np_flow[...,0])/np.mean(np_flow[...,1]))\n",
    "    if (np.pi/2 <= theta < np.pi):\n",
    "        return (np.pi - theta)\n",
    "    if (np.pi <= theta < 1.5*np.pi):\n",
    "        return (3*np.pi - theta)\n",
    "    return theta"
   ]
  },
  {
   "cell_type": "code",
   "execution_count": 163,
   "metadata": {},
   "outputs": [],
   "source": [
    "def calculate_motion_vector_angles(\n",
    "    video_location: str, \n",
    "    optical_flow_params: list = [0.5, 3, 15, 3, 5, 1.2, 0],\n",
    "    convolve_param: int = 10\n",
    ") -> np.array:\n",
    "    \"\"\"\n",
    "    Run the optical flow Farneback algorithm pointed at a video file\n",
    "    \n",
    "    Args:\n",
    "        video_location (string): location of the video file\n",
    "        flow_params(list): \"default\" params for openCV Farneback\n",
    "    \n",
    "    Returns:\n",
    "        movement (list): angles for movement vectors of the optical flow per each frame\n",
    "    \n",
    "    Raises:\n",
    "        FileNotFoundError\n",
    "    \"\"\"\n",
    "    capture = cv2.VideoCapture(video_location)\n",
    "    success, previous_frame = capture.read()\n",
    "    if not success:\n",
    "        raise FileNotFoundError(\"Video file not found\")\n",
    "\n",
    "    previous_frame_greyscale = cv2.cvtColor(previous_frame, cv2.COLOR_BGR2GRAY)\n",
    "\n",
    "    # A useful given\n",
    "    frame_count = int(capture.get(cv2.CAP_PROP_FRAME_COUNT))\n",
    "\n",
    "    # initialize optical flow and angles lists\n",
    "    optical_flow = list()\n",
    "    motion_angles = list()\n",
    "    \n",
    "    for _ in range(frame_count - 1):\n",
    "        _, current_frame = capture.read()\n",
    "        current_frame_grayscale = cv2.cvtColor(current_frame, cv2.COLOR_BGR2GRAY)\n",
    "        flow = cv2.calcOpticalFlowFarneback(\n",
    "            previous_frame_greyscale, \n",
    "            current_frame_grayscale, \n",
    "            None, \n",
    "            *optical_flow_params\n",
    "        )\n",
    "        motion_angles.append(faircloth_tempo(flow))\n",
    "        previous_frame_greyscale = current_frame_grayscale\n",
    "        \n",
    "    return np.convolve(motion_angles, np.ones(convolve_param), mode='full')"
   ]
  },
  {
   "cell_type": "code",
   "execution_count": 168,
   "metadata": {},
   "outputs": [],
   "source": [
    "def build_beat_candidates(motion_angles: list, threshold: float = 5.0) -> list:\n",
    "    \"\"\"\n",
    "    Filter only the strongest beat candidates and their location\n",
    "    \n",
    "    Args:\n",
    "        motion_angles (list): output of the calculate_faircloth_tempo, a list of angles of motion vectors between frames\n",
    "        threshold (int): barn door filter threshold\n",
    "        \n",
    "    Returns:\n",
    "        beat_candidates (list): a filtered list of likely candidates\n",
    "    \n",
    "    Raises:\n",
    "        None\n",
    "    \"\"\"    \n",
    "    return [(i, j) for i, j in enumerate(motion_angles) if j > threshold]\n",
    "    "
   ]
  },
  {
   "cell_type": "code",
   "execution_count": 169,
   "metadata": {},
   "outputs": [
    {
     "ename": "KeyboardInterrupt",
     "evalue": "",
     "output_type": "error",
     "traceback": [
      "\u001b[0;31m---------------------------------------------------------------------------\u001b[0m",
      "\u001b[0;31mKeyboardInterrupt\u001b[0m                         Traceback (most recent call last)",
      "\u001b[0;32m<ipython-input-169-5770606a107d>\u001b[0m in \u001b[0;36m<module>\u001b[0;34m\u001b[0m\n\u001b[0;32m----> 1\u001b[0;31m \u001b[0mmotion_angles\u001b[0m \u001b[0;34m=\u001b[0m \u001b[0mcalculate_faircloth_tempo\u001b[0m\u001b[0;34m(\u001b[0m\u001b[0mVIDEO_LOCATION\u001b[0m\u001b[0;34m)\u001b[0m\u001b[0;34m\u001b[0m\u001b[0;34m\u001b[0m\u001b[0m\n\u001b[0m",
      "\u001b[0;32m<ipython-input-163-0e51eb6ab041>\u001b[0m in \u001b[0;36mcalculate_faircloth_tempo\u001b[0;34m(video_location, optical_flow_params, convolve_param)\u001b[0m\n\u001b[1;32m     34\u001b[0m         \u001b[0m_\u001b[0m\u001b[0;34m,\u001b[0m \u001b[0mcurrent_frame\u001b[0m \u001b[0;34m=\u001b[0m \u001b[0mcapture\u001b[0m\u001b[0;34m.\u001b[0m\u001b[0mread\u001b[0m\u001b[0;34m(\u001b[0m\u001b[0;34m)\u001b[0m\u001b[0;34m\u001b[0m\u001b[0;34m\u001b[0m\u001b[0m\n\u001b[1;32m     35\u001b[0m         \u001b[0mcurrent_frame_grayscale\u001b[0m \u001b[0;34m=\u001b[0m \u001b[0mcv2\u001b[0m\u001b[0;34m.\u001b[0m\u001b[0mcvtColor\u001b[0m\u001b[0;34m(\u001b[0m\u001b[0mcurrent_frame\u001b[0m\u001b[0;34m,\u001b[0m \u001b[0mcv2\u001b[0m\u001b[0;34m.\u001b[0m\u001b[0mCOLOR_BGR2GRAY\u001b[0m\u001b[0;34m)\u001b[0m\u001b[0;34m\u001b[0m\u001b[0;34m\u001b[0m\u001b[0m\n\u001b[0;32m---> 36\u001b[0;31m         flow = cv2.calcOpticalFlowFarneback(\n\u001b[0m\u001b[1;32m     37\u001b[0m             \u001b[0mprevious_frame_greyscale\u001b[0m\u001b[0;34m,\u001b[0m\u001b[0;34m\u001b[0m\u001b[0;34m\u001b[0m\u001b[0m\n\u001b[1;32m     38\u001b[0m             \u001b[0mcurrent_frame_grayscale\u001b[0m\u001b[0;34m,\u001b[0m\u001b[0;34m\u001b[0m\u001b[0;34m\u001b[0m\u001b[0m\n",
      "\u001b[0;31mKeyboardInterrupt\u001b[0m: "
     ]
    }
   ],
   "source": [
    "motion_angles = calculate_motion_vector_angles(VIDEO_LOCATION)"
   ]
  },
  {
   "cell_type": "code",
   "execution_count": 192,
   "metadata": {},
   "outputs": [
    {
     "data": {
      "text/plain": [
       "(629,)"
      ]
     },
     "execution_count": 192,
     "metadata": {},
     "output_type": "execute_result"
    }
   ],
   "source": [
    "motion_angles.shape[0]"
   ]
  },
  {
   "cell_type": "code",
   "execution_count": 172,
   "metadata": {},
   "outputs": [],
   "source": [
    "beat_candidates = build_beat_candidates(motion_angles)"
   ]
  },
  {
   "cell_type": "code",
   "execution_count": 173,
   "metadata": {},
   "outputs": [
    {
     "data": {
      "text/plain": [
       "[(18, 5.4479421973228455),\n",
       " (19, 6.096309393644333),\n",
       " (20, 6.658125728368759),\n",
       " (21, 7.201989233493805),\n",
       " (22, 7.747229278087616),\n",
       " (23, 8.39258474111557),\n",
       " (24, 9.28418505191803),\n",
       " (25, 7.204462468624115),\n",
       " (26, 5.049532771110535),\n",
       " (44, 5.706094950437546)]"
      ]
     },
     "execution_count": 173,
     "metadata": {},
     "output_type": "execute_result"
    }
   ],
   "source": [
    "beat_candidates[:10]"
   ]
  },
  {
   "cell_type": "code",
   "execution_count": 2,
   "metadata": {},
   "outputs": [],
   "source": [
    "    def infer_faircloth_tempo(\n",
    "        candidates: list,\n",
    "        num_frames: int,\n",
    "        tempos: list = list(range(90,180)),\n",
    "    ) -> float:\n",
    "        \"\"\"\n",
    "        Implementation of the Faircloth visual tempo algorithim\n",
    "        https://stars.library.ucf.edu/cgi/viewcontent.cgi?article=4582&context=etd\n",
    "\n",
    "        args:\n",
    "            candidates (list of tuples): list of tuples of (frame_num, motion_vector_angle)\n",
    "            num_frames (int): number of frames in video\n",
    "            tempos (list): hypothesis tempos\n",
    "\n",
    "        returns:\n",
    "            tempo (float): tempo infered from the beat candidates\n",
    "            score (float): probabilistic score for visual tempo \n",
    "            beats (list): array of frame numbers corresponding to the tracked visual beats\n",
    "\n",
    "        raises:\n",
    "            None\n",
    "        \"\"\"\n",
    "\n",
    "        # initialize base params\n",
    "        startup_period = math.ceil(0.75*num_frames)\n",
    "        outer_tolerance_pre = 0.25\n",
    "        outer_tolerance_post = 0.25\n",
    "        inner_tolerance = 8\n",
    "        total_salience = sum([i[1] for i in candidates])\n",
    "        num_candidates = len(candidates)\n",
    "        # use the agent_factory method to build out this list\n",
    "        agents = []\n",
    "\n",
    "        for tempo in tempos:\n",
    "            for vote in candidates:\n",
    "                if vote[0] < startup_period:\n",
    "                    agent = agent_factory(\n",
    "                        tempo,\n",
    "                        vote[0] + tempo,\n",
    "                        [vote],\n",
    "                        vote[1]/total_salience,\n",
    "                        0,\n",
    "                        1,\n",
    "                    )\n",
    "                    agents.append(agent)\n",
    "\n",
    "        for vote in candidates:\n",
    "            new_agents = []\n",
    "            for agent in agents:\n",
    "                pre_tolerance = math.ceil(outer_tolerance_pre*agent['interval'])\n",
    "                post_tolerance = math.ceil(outer_tolerance_post*agent['interval'])\n",
    "                timeout = agent['interval'] + post_tolerance\n",
    "                while (vote[0] - agent['history'][len(agent['history'])-1][0]) > timeout:\n",
    "                    new_beat_onset = agent['history'][len(agent['history'])-1][0] + agent['interval']\n",
    "                    agent['history'].append((new_beat_onset, 0))\n",
    "                    agent['penalties'] += 1\n",
    "                    agent['prediction'] += agent['interval']\n",
    "\n",
    "                tolerance_width = pre_tolerance + post_tolerance\n",
    "\n",
    "                while ((agent['prediction'] + post_tolerance) < vote[0]):\n",
    "                    agent['prediction'] += agent['interval']\n",
    "\n",
    "                if (agent['prediction'] - pre_tolerance <= vote[0]) \\\n",
    "                and (vote[0] <= agent['prediction'] + post_tolerance):\n",
    "                    if abs(agent['prediction'] - vote[0]) > inner_tolerance:\n",
    "                        new_agents.append(agent)\n",
    "\n",
    "                    error = vote[0] - agent['prediction']\n",
    "                    real_error = error/tolerance_width\n",
    "                    agent['matches'] += 1\n",
    "                    agent['interval'] += real_error\n",
    "                    agent['prediction'] = vote[0] + agent['interval']\n",
    "                    agent['history'].append(vote)\n",
    "                    score_inc = (vote[1]/total_salience)*(1-abs(real_error))\n",
    "                    agent['score'] += score_inc\n",
    "            agents.extend(new_agents)\n",
    "\n",
    "        for agent in agents:\n",
    "            agent['score'] = agent['score']*((1.0 - ((agent.get('penalties')*agent.get('interval'))/num_frames))\\\n",
    "            *agent.get('matches')/num_candidates)\n",
    "\n",
    "        max_score = 0\n",
    "        index_max = 100000000000\n",
    "        for index, agent in enumerate(agents):\n",
    "            if agent.get('score') > max_score:\n",
    "                max_score = agent.get('score')\n",
    "                index_max = index\n",
    "        return agents[index_max] "
   ]
  },
  {
   "cell_type": "code",
   "execution_count": 254,
   "metadata": {},
   "outputs": [],
   "source": [
    "def agent_factory(\n",
    "    interval: int = 0,\n",
    "    prediction: float = 0.0,\n",
    "    history: list = [],\n",
    "    score: float = 0.0,\n",
    "    penalties: int = 0,\n",
    "    matches: int = 0\n",
    ") -> dict:\n",
    "    \"\"\"\n",
    "    A factory for agents in the tempo inference algo with defaults.\n",
    "    \n",
    "    \"\"\"\n",
    "    return dict(\n",
    "        interval=interval,\n",
    "        prediction=prediction,\n",
    "        history=history,\n",
    "        score=score,\n",
    "        penalties=penalties,\n",
    "        matches=matches,\n",
    "    )"
   ]
  },
  {
   "cell_type": "code",
   "execution_count": 255,
   "metadata": {},
   "outputs": [
    {
     "data": {
      "text/plain": [
       "769.6945013497025"
      ]
     },
     "execution_count": 255,
     "metadata": {},
     "output_type": "execute_result"
    }
   ],
   "source": [
    "sum([i[1] for i in beat_candidates])"
   ]
  },
  {
   "cell_type": "code",
   "execution_count": 256,
   "metadata": {},
   "outputs": [],
   "source": [
    "i = infer_faircloth_tempo(beat_candidates, motion_angles.shape[0])"
   ]
  },
  {
   "cell_type": "code",
   "execution_count": 257,
   "metadata": {},
   "outputs": [
    {
     "data": {
      "text/plain": [
       "{'interval': 40.86045262803923,\n",
       " 'prediction': 656.8604526280392,\n",
       " 'history': [(45, 7.527514189481735),\n",
       "  (84, 5.510843396186829),\n",
       "  (119, 6.663697823882103),\n",
       "  (159.6404958677686, 0),\n",
       "  (208, 6.26739227771759),\n",
       "  (251, 5.911930799484253),\n",
       "  (292.0826617034356, 0),\n",
       "  (335, 6.736267566680908),\n",
       "  (376.16605609403234, 0),\n",
       "  (417.3321121880647, 0),\n",
       "  (458.498168282097, 0),\n",
       "  (499.66422437612937, 0),\n",
       "  (536, 5.5823670625686646),\n",
       "  (576.9464978908431, 0),\n",
       "  (616, 5.296248108148575)],\n",
       " 'score': 0.0025189332424952245,\n",
       " 'penalties': 7,\n",
       " 'matches': 8}"
      ]
     },
     "execution_count": 257,
     "metadata": {},
     "output_type": "execute_result"
    }
   ],
   "source": [
    "i"
   ]
  },
  {
   "cell_type": "code",
   "execution_count": 174,
   "metadata": {},
   "outputs": [
    {
     "data": {
      "text/plain": [
       "[<matplotlib.lines.Line2D at 0x11ed641c0>]"
      ]
     },
     "execution_count": 174,
     "metadata": {},
     "output_type": "execute_result"
    },
    {
     "data": {
      "image/png": "[encoded data removed]",
      "text/plain": [
       "<Figure size 432x288 with 1 Axes>"
      ]
     },
     "metadata": {
      "needs_background": "light"
     },
     "output_type": "display_data"
    }
   ],
   "source": [
    "plt.plot(np.arange(motion_angles.shape[0]),motion_angles,)"
   ]
  },
  {
   "cell_type": "code",
   "execution_count": 258,
   "metadata": {},
   "outputs": [
    {
     "data": {
      "text/plain": [
       "0.06359300476947535"
      ]
     },
     "execution_count": 258,
     "metadata": {},
     "output_type": "execute_result"
    }
   ],
   "source": [
    "40/629"
   ]
  },
  {
   "cell_type": "code",
   "execution_count": 259,
   "metadata": {},
   "outputs": [
    {
     "data": {
      "text/plain": [
       "15.725"
      ]
     },
     "execution_count": 259,
     "metadata": {},
     "output_type": "execute_result"
    }
   ],
   "source": [
    "629/40"
   ]
  },
  {
   "cell_type": "code",
   "execution_count": null,
   "metadata": {},
   "outputs": [],
   "source": []
  }
 ],
 "metadata": {
  "kernelspec": {
   "display_name": "Python 3",
   "language": "python",
   "name": "python3"
  },
  "language_info": {
   "codemirror_mode": {
    "name": "ipython",
    "version": 3
   },
   "file_extension": ".py",
   "mimetype": "text/x-python",
   "name": "python",
   "nbconvert_exporter": "python",
   "pygments_lexer": "ipython3",
   "version": "3.8.5"
  }
 },
 "nbformat": 4,
 "nbformat_minor": 4
}
